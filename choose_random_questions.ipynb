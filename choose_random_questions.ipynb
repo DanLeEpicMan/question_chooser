{
 "cells": [
  {
   "cell_type": "code",
   "execution_count": 1,
   "metadata": {},
   "outputs": [],
   "source": [
    "from numpy import random\n",
    "from copy import deepcopy\n",
    "from bisect import insort\n",
    "\n",
    "rng = random.default_rng(123)"
   ]
  },
  {
   "cell_type": "code",
   "execution_count": 2,
   "metadata": {},
   "outputs": [],
   "source": [
    "def choose_random_questions(\n",
    "        options: dict[str, list[int]], \n",
    "        *, \n",
    "        num_questions: int = 4, \n",
    "        modify_options: bool = True\n",
    "    ) -> dict[str, list[int]]:\n",
    "    '''\n",
    "    Sample `num_questions` from a dictionary `options`. Options is expected to be structued as `'Chapter': [Questions]`.\n",
    "    By default, the passed dictionary will be modified. Set `modify_options` if you would prefer this script to work on\n",
    "    a (deep)copy of the dictionary.\n",
    "\n",
    "    This works by sampling a chapter (without replacement) and then sampling a question (without replacement).\n",
    "\n",
    "    Noteworthy behavior:\n",
    "        - If `num_questions > # of chapters`, then the chapters are refreshed.\n",
    "        - If all the questions from a chapter is sampled, then that chapter is removed entirely.\n",
    "        - The same question can never be chosen twice (i.e. questions are always sampled without replacement).\n",
    "    '''\n",
    "    options = options if modify_options else deepcopy(options)\n",
    "    chosen_questions = {\n",
    "        key: []\n",
    "        for key in options\n",
    "    } \n",
    "\n",
    "    # strategy: run through the algorithm and perform as many full samples as needed\n",
    "    # then perform a final run where the remainder is sampled\n",
    "    for i in range(num_questions // len(options)):\n",
    "        for chapter in options:\n",
    "            index = rng.integers(len(options[chapter])) # choose a random index\n",
    "            insort(\n",
    "                chosen_questions[chapter], \n",
    "                options[chapter].pop(index)\n",
    "            ) # remove question from chapter and insert it (preserve order)\n",
    "            if not options[chapter]:\n",
    "                del options[chapter]\n",
    "    \n",
    "    # perform final run\n",
    "    remaining_chapters = rng.choice(\n",
    "        list(options.keys()), \n",
    "        size=num_questions % len(options), \n",
    "        replace=False\n",
    "    )\n",
    "    for chapter in remaining_chapters:\n",
    "        insort(\n",
    "            chosen_questions[chapter],\n",
    "            int(rng.choice(options[chapter]))\n",
    "        )\n",
    "\n",
    "    return chosen_questions"
   ]
  },
  {
   "cell_type": "code",
   "execution_count": 3,
   "metadata": {},
   "outputs": [
    {
     "data": {
      "text/plain": [
       "\"{'Ch 3': [1, 14], 'Ch 20': [18], 'Ch 21': [17]}\""
      ]
     },
     "execution_count": 3,
     "metadata": {},
     "output_type": "execute_result"
    }
   ],
   "source": [
    "repr(choose_random_questions({\n",
    "    'Ch 3': [1,4,14], \n",
    "    'Ch 20': [5,6,18,21],\n",
    "    'Ch 21': [9,11,17,23]\n",
    "}))"
   ]
  }
 ],
 "metadata": {
  "kernelspec": {
   "display_name": "Python 3",
   "language": "python",
   "name": "python3"
  },
  "language_info": {
   "codemirror_mode": {
    "name": "ipython",
    "version": 3
   },
   "file_extension": ".py",
   "mimetype": "text/x-python",
   "name": "python",
   "nbconvert_exporter": "python",
   "pygments_lexer": "ipython3",
   "version": "3.13.3"
  }
 },
 "nbformat": 4,
 "nbformat_minor": 2
}
